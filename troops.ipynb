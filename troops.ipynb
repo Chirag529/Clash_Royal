{
 "cells": [
  {
   "cell_type": "code",
   "execution_count": 11,
   "metadata": {},
   "outputs": [
    {
     "name": "stdout",
     "output_type": "stream",
     "text": [
      "['Archer Queen', 'Archers', 'Baby Dragon', 'Balloon', 'Bandit', 'Barbarians', 'Barbarians/Evolution', 'Bats', 'Battle Healer', 'Battle Ram', 'Bomber', 'Bowler', 'Cannon Cart', 'Dark Prince', 'Dart Goblin', 'Electro Dragon', 'Electro Giant', 'Electro Spirit', 'Electro Wizard', 'Elite Barbarians', 'Elixir Golem', 'Executioner', 'Fire Spirit', 'Firecracker', 'Firecracker/Evolution', 'Fisherman', 'Flying Machine', 'Giant', 'Giant Skeleton', 'Goblin Gang', 'Goblin Giant', 'Goblins', 'Golden Knight', 'Golem', 'Guards', 'Heal Spirit', 'Hog Rider', 'Hunter', 'Ice Golem', 'Ice Spirit', 'Ice Wizard', 'Inferno Dragon', 'Knight', 'Lava Hound', 'Lumberjack', 'Magic Archer', 'Mega Knight', 'Mega Minion', 'Mighty Miner', 'Miner', 'Mini P.E.K.K.A.', 'Minion Horde', 'Minions', 'Monk', 'Mother Witch', 'Musketeer', 'Night Witch', 'P.E.K.K.A.', 'Phoenix', 'Prince', 'Princess', 'Ram Rider', 'Rascals', 'Royal Ghost', 'Royal Giant', 'Royal Giant/Evolution', 'Royal Hogs', 'Royal Recruits', 'Santa Hog Rider', 'Skeleton Army', 'Skeleton Barrel', 'Skeleton Dragons', 'Skeleton King', 'Skeletons', 'Skeletons/Evolution', 'Sparky', 'Spear Goblins', 'Super Archers', 'Super Ice Golem', 'Super Lava Hound', 'Super Magic Archer', 'Super Mini P.E.K.K.A.', 'Super Witch', 'Terry', 'Three Musketeers', 'Valkyrie', 'Wall Breakers', 'Witch', 'Wizard', 'Zappies']\n",
      "      Troop Cards\n",
      "0    Archer Queen\n",
      "1         Archers\n",
      "2     Baby Dragon\n",
      "3         Balloon\n",
      "4          Bandit\n",
      "..            ...\n",
      "85       Valkyrie\n",
      "86  Wall Breakers\n",
      "87          Witch\n",
      "88         Wizard\n",
      "89        Zappies\n",
      "\n",
      "[90 rows x 1 columns]\n"
     ]
    }
   ],
   "source": [
    "import requests  \n",
    "from bs4 import BeautifulSoup as bs\n",
    "import pandas as pd   \n",
    "import urllib3  \n",
    "\n",
    "# Disable warnings\n",
    "urllib3.disable_warnings(urllib3.exceptions.InsecureRequestWarning)  \n",
    "\n",
    "\n",
    "# Get the webpage content\n",
    "r= requests.get('https://clashroyale.fandom.com/wiki/Category:Troop_Cards', verify=False)  \n",
    "soup = bs(r.text, 'html.parser')\n",
    "\n",
    "# Get the list of troop cards\n",
    "troop_cards = soup.find_all('a', class_='category-page__member-link')\n",
    "\n",
    "# Clean and get only the name of troops\n",
    "troop_cards = [i.text for i in troop_cards]\n",
    "\n",
    "# Get the list of troop cards\n",
    "print(troop_cards)\n",
    "\n",
    "# Export the data to a csv file\n",
    "df = pd.DataFrame(troop_cards)\n",
    "\n",
    "# Rename the columns\n",
    "df.columns = ['Troop Cards']\n",
    "\n",
    "# Print the data\n",
    "print(df)\n",
    "\n",
    "# Update the data into csv file\n",
    "df.to_csv('troop_cards.csv')"
   ]
  },
  {
   "cell_type": "code",
   "execution_count": 35,
   "metadata": {},
   "outputs": [
    {
     "name": "stdout",
     "output_type": "stream",
     "text": [
      "\n",
      "Empty DataFrame\n",
      "Columns: [Title, Category, Number, Size, Attacks, Location]\n",
      "Index: []\n"
     ]
    }
   ],
   "source": [
    "import requests  \n",
    "from bs4 import BeautifulSoup as soup\n",
    "import pandas as pd   \n",
    "import urllib3  \n",
    "\n",
    "# Disable warnings\n",
    "urllib3.disable_warnings(urllib3.exceptions.InsecureRequestWarning)  \n",
    "url = \"https://clashroyale.fandom.com/wiki/Category:Troop_Cards\"\n",
    "r = requests.get(url, verify=False)\n",
    "soup = soup(r.content, 'html.parser')\n",
    "\n",
    "# Get information for first troop in the game\n",
    "# troop_cards_data = soup.find_all(all, id='unit-statistics')\n",
    "\n",
    "table = soup.find_all('table', class_='wikitable', id='unit-attributes-table')\n",
    "\n",
    "# Initialize an empty list to store the data\n",
    "data_list = []\n",
    "\n",
    "# Loop through each table element in the ResultSet and get the text for each element\n",
    "for table_element in table:\n",
    "    data_list.append(table_element.text)\n",
    "\n",
    "# Join the list of text elements into a single string with newlines\n",
    "data = '\\n'.join(data_list)\n",
    "\n",
    "print(data)\n",
    "df = pd.DataFrame(columns=['Title', 'Category', 'Number', 'Size', 'Attacks', 'Location'])\n",
    "\n",
    "# Create a Pandas DataFrame from the string\n",
    "\n",
    "print(df)\n",
    "\n"
   ]
  },
  {
   "cell_type": "code",
   "execution_count": null,
   "metadata": {},
   "outputs": [],
   "source": []
  }
 ],
 "metadata": {
  "kernelspec": {
   "display_name": "Python 3",
   "language": "python",
   "name": "python3"
  },
  "language_info": {
   "codemirror_mode": {
    "name": "ipython",
    "version": 3
   },
   "file_extension": ".py",
   "mimetype": "text/x-python",
   "name": "python",
   "nbconvert_exporter": "python",
   "pygments_lexer": "ipython3",
   "version": "3.11.1"
  },
  "orig_nbformat": 4
 },
 "nbformat": 4,
 "nbformat_minor": 2
}
